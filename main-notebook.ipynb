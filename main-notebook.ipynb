{
 "cells": [
  {
   "cell_type": "code",
   "execution_count": 2,
   "metadata": {},
   "outputs": [
    {
     "name": "stdout",
     "output_type": "stream",
     "text": [
      "Who is the best branch?\n",
      "Test1\n"
     ]
    }
   ],
   "source": [
    "correctbranch = 'Test1'\n",
    "\n",
    "def printbestbranch(BranchName):\n",
    "    \n",
    "    #This function takes as input a string of the title of the best branch\n",
    "    #Outputs should be a sting of victorious declaration \n",
    "    \n",
    "    \n",
    "    print ('Who is the best branch?')\n",
    "    print (BranchName)\n",
    "    return \n",
    "printbestbranch(correctbranch)"
   ]
  },
  {
   "cell_type": "code",
   "execution_count": null,
   "metadata": {},
   "outputs": [],
   "source": []
  }
 ],
 "metadata": {
  "kernelspec": {
   "display_name": "Python (learn-env)",
   "language": "python",
   "name": "learn-env"
  },
  "language_info": {
   "codemirror_mode": {
    "name": "ipython",
    "version": 3
   },
   "file_extension": ".py",
   "mimetype": "text/x-python",
   "name": "python",
   "nbconvert_exporter": "python",
   "pygments_lexer": "ipython3",
   "version": "3.8.5"
  }
 },
 "nbformat": 4,
 "nbformat_minor": 4
}
